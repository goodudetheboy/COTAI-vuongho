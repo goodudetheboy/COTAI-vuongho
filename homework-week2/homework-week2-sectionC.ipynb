{
 "cells": [
  {
   "cell_type": "code",
   "execution_count": 43,
   "metadata": {},
   "outputs": [],
   "source": [
    "import random\n",
    "import array\n",
    "import numpy as np\n"
   ]
  },
  {
   "cell_type": "code",
   "execution_count": 3,
   "metadata": {},
   "outputs": [
    {
     "name": "stdout",
     "output_type": "stream",
     "text": [
      "[1 2 3]\n"
     ]
    }
   ],
   "source": [
    "vector_row = np.array([1, 2, 3])\n",
    "print(vector_row)"
   ]
  },
  {
   "cell_type": "code",
   "execution_count": 76,
   "metadata": {},
   "outputs": [
    {
     "name": "stdout",
     "output_type": "stream",
     "text": [
      "[[ 40  45 100]\n",
      " [ 32  91   1]\n",
      " [ 20  99  14]\n",
      " [ 87  48  64]]\n",
      "[32 91  1]\n"
     ]
    }
   ],
   "source": [
    "\n",
    "def genData(N, d):\n",
    "    result = []\n",
    "    for i in range(N):\n",
    "        vector = []\n",
    "        for k in range(d):\n",
    "            x = random.randint(1,100)\n",
    "            vector.append(random.randint(1,100))\n",
    "        result.append(vector)\n",
    "    result1 = np.array(result)\n",
    "    print(result1)\n",
    "    return result1\n",
    "    \n",
    "\n",
    "sample = genData(4,3)\n"
   ]
  },
  {
   "cell_type": "code",
   "execution_count": 91,
   "metadata": {},
   "outputs": [
    {
     "data": {
      "text/plain": [
       "array([128., 179., 100.])"
      ]
     },
     "execution_count": 91,
     "metadata": {},
     "output_type": "execute_result"
    }
   ],
   "source": [
    "def avgSample(sample, w):\n",
    "    sum = 0\n",
    "    for v in range(len(sample)):\n",
    "        sum += w[v] * sample[v]\n",
    "    return sum/len(sample)\n",
    "\n",
    "weight = np.array([1,2,3,4])\n",
    "avgSample(sample, weight)"
   ]
  },
  {
   "cell_type": "code",
   "execution_count": 90,
   "metadata": {},
   "outputs": [
    {
     "name": "stdout",
     "output_type": "stream",
     "text": [
      "[[ 80  90 200]\n",
      " [ 64 182   2]\n",
      " [ 40 198  28]\n",
      " [174  96 128]]\n",
      "4\n"
     ]
    }
   ],
   "source": [
    "print(2*sample)\n",
    "print(len(sample))"
   ]
  },
  {
   "cell_type": "code",
   "execution_count": null,
   "metadata": {},
   "outputs": [],
   "source": []
  },
  {
   "cell_type": "code",
   "execution_count": null,
   "metadata": {},
   "outputs": [],
   "source": []
  }
 ],
 "metadata": {
  "kernelspec": {
   "display_name": "Python 3",
   "language": "python",
   "name": "python3"
  },
  "language_info": {
   "codemirror_mode": {
    "name": "ipython",
    "version": 3
   },
   "file_extension": ".py",
   "mimetype": "text/x-python",
   "name": "python",
   "nbconvert_exporter": "python",
   "pygments_lexer": "ipython3",
   "version": "3.7.6"
  }
 },
 "nbformat": 4,
 "nbformat_minor": 4
}
